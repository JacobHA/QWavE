{
 "cells": [
  {
   "cell_type": "markdown",
   "metadata": {},
   "source": [
    "# Evaluating Thermodynamic Functions"
   ]
  },
  {
   "cell_type": "markdown",
   "metadata": {},
   "source": [
    "QWavE has also been implimented to obtain thermodynamic variables from the partition function (currently only the canonical partition function has been implimented). This example will show example on how to obtain Free Energies, entropies, and heat capacities."
   ]
  },
  {
   "cell_type": "markdown",
   "metadata": {},
   "source": [
    "# Canonical Partion Function"
   ]
  },
  {
   "cell_type": "markdown",
   "metadata": {},
   "source": [
    "See the previus example titled ??? (coming soon) on how to obtain the canonical partition function. The free energy  ascociated with the canonical partition function is the Helmholtz free energy, and is obtained by:"
   ]
  },
  {
   "cell_type": "markdown",
   "metadata": {},
   "source": [
    "$$A = {-k_{b} T} \\text{ln}(q)$$"
   ]
  },
  {
   "cell_type": "markdown",
   "metadata": {},
   "source": [
    "where $k_{b}$, $T$, and $q$ are the Boltzmann constant, temperature, and partition function respectively. The canonical partion is an $NVT$ ensemble, and thus the other thermodynamic quantities can be computed by taking the derivate of one of those parameters (as we shall see). Since this is a 1 dimensional solver, the volume should really be a length but this document will use both interchangably."
   ]
  },
  {
   "cell_type": "markdown",
   "metadata": {},
   "source": [
    "## Get the Helmholtz Free Energy"
   ]
  },
  {
   "cell_type": "code",
   "execution_count": 1,
   "metadata": {},
   "outputs": [],
   "source": [
    "# Load some modules that will be needed\n",
    "from QWavE import qwave\n",
    "from scipy import constants\n",
    "import numpy as np\n",
    "import matplotlib.pyplot as plt\n",
    "import gmpy2"
   ]
  },
  {
   "cell_type": "code",
   "execution_count": 69,
   "metadata": {},
   "outputs": [],
   "source": [
    "bl = 10 # length of box\n",
    "m = 1823 # mass of proton\n",
    "temp = np.linspace(1,1000,1000) # temperature range, cannot evaluate the temperature at low T (working on a fix) \n",
    "\n",
    "# kb = constants.physical_constants['kelvin-hartree relationship'][0]\n",
    "h_ev = constants.physical_constants['hartree-electron volt relationship'][0]\n",
    "kb = constants.physical_constants['Boltzmann constant in eV/K'][0]\n",
    "\n",
    "eigen,wave = qwave.schrodinger_box(bl,m)\n",
    "eig = eigen * h_ev\n",
    "q_can = qwave.q_PESq(eig,temp,kb) # the eigen values are in atomic units\n",
    "                                         # you can convert them to another energy unit or leave them in atomic units if you wish\n",
    "\n",
    "# you can evaluate A by hand via the equation above or use the free_A module for the same result \n",
    "# Helmholtz,S = qwave.free_A_S(q_can,temp,'eV')"
   ]
  },
  {
   "cell_type": "code",
   "execution_count": 70,
   "metadata": {},
   "outputs": [
    {
     "data": {
      "text/plain": [
       "array([ 7.24426209e-04,  7.24425634e-04,  7.24368464e-04,  7.23796924e-04,\n",
       "        7.21656193e-04,  7.16748668e-04,  7.08171083e-04,  6.95422090e-04,\n",
       "        6.78324053e-04,  6.56906846e-04,  6.31314311e-04,  6.01743379e-04,\n",
       "        5.68408811e-04,  5.31524441e-04,  4.91294052e-04,  4.47907528e-04,\n",
       "        4.01539777e-04,  3.52351029e-04,  3.00487753e-04,  2.46083830e-04,\n",
       "        1.89261756e-04,  1.30133806e-04,  6.88030963e-05,  5.36455033e-06,\n",
       "       -6.00942473e-05, -1.27492292e-04, -1.96754492e-04, -2.67811076e-04,\n",
       "       -3.40597078e-04, -4.15051878e-04, -4.91118795e-04, -5.68744733e-04,\n",
       "       -6.47879857e-04, -7.28477318e-04, -8.10492992e-04, -8.93885261e-04,\n",
       "       -9.78614809e-04, -1.06464444e-03, -1.15193891e-03, -1.24046480e-03,\n",
       "       -1.33019036e-03, -1.42108538e-03, -1.51312111e-03, -1.60627017e-03,\n",
       "       -1.70050639e-03, -1.79580481e-03, -1.89214154e-03, -1.98949374e-03,\n",
       "       -2.08783953e-03, -2.18715791e-03, -2.28742877e-03, -2.38863276e-03,\n",
       "       -2.49075131e-03, -2.59376656e-03, -2.69766131e-03, -2.80241900e-03,\n",
       "       -2.90802368e-03, -3.01445995e-03, -3.12171297e-03, -3.22976839e-03,\n",
       "       -3.33861237e-03, -3.44823152e-03, -3.55861287e-03, -3.66974391e-03,\n",
       "       -3.78161249e-03, -3.89420686e-03, -4.00751563e-03, -4.12152775e-03,\n",
       "       -4.23623250e-03, -4.35161948e-03, -4.46767859e-03, -4.58440001e-03,\n",
       "       -4.70177422e-03, -4.81979194e-03, -4.93844415e-03, -5.05772208e-03,\n",
       "       -5.17761718e-03, -5.29812115e-03, -5.41922588e-03, -5.54092347e-03,\n",
       "       -5.66320622e-03, -5.78606664e-03, -5.90949739e-03, -6.03349133e-03,\n",
       "       -6.15804149e-03, -6.28314104e-03, -6.40878335e-03, -6.53496189e-03,\n",
       "       -6.66167033e-03, -6.78890243e-03, -6.91665212e-03, -7.04491345e-03,\n",
       "       -7.17368061e-03, -7.30294788e-03, -7.43270970e-03, -7.56296058e-03,\n",
       "       -7.69369519e-03, -7.82490826e-03, -7.95659466e-03, -8.08874932e-03,\n",
       "       -8.22136732e-03, -8.35444377e-03, -8.48797393e-03, -8.62195312e-03,\n",
       "       -8.75637673e-03, -8.89124025e-03, -9.02653926e-03, -9.16226941e-03,\n",
       "       -9.29842640e-03, -9.43500603e-03, -9.57200417e-03, -9.70941675e-03,\n",
       "       -9.84723977e-03, -9.98546928e-03, -1.01241014e-02, -1.02631324e-02,\n",
       "       -1.04025584e-02, -1.05423757e-02, -1.06825808e-02, -1.08231700e-02,\n",
       "       -1.09641398e-02, -1.11054868e-02, -1.12472074e-02, -1.13892983e-02,\n",
       "       -1.15317562e-02, -1.16745777e-02, -1.18177597e-02, -1.19612989e-02,\n",
       "       -1.21051922e-02, -1.22494365e-02, -1.23940287e-02, -1.25389657e-02,\n",
       "       -1.26842446e-02, -1.28298623e-02, -1.29758161e-02, -1.31221030e-02,\n",
       "       -1.32687201e-02, -1.34156647e-02, -1.35629340e-02, -1.37105252e-02,\n",
       "       -1.38584356e-02, -1.40066626e-02, -1.41552034e-02, -1.43040555e-02,\n",
       "       -1.44532163e-02, -1.46026833e-02, -1.47524538e-02, -1.49025254e-02,\n",
       "       -1.50528957e-02, -1.52035621e-02, -1.53545223e-02, -1.55057739e-02,\n",
       "       -1.56573144e-02, -1.58091417e-02, -1.59612533e-02, -1.61136469e-02,\n",
       "       -1.62663203e-02, -1.64192713e-02, -1.65724976e-02, -1.67259970e-02,\n",
       "       -1.68797674e-02, -1.70338065e-02, -1.71881123e-02, -1.73426827e-02,\n",
       "       -1.74975156e-02, -1.76526088e-02, -1.78079604e-02, -1.79635683e-02,\n",
       "       -1.81194306e-02, -1.82755451e-02, -1.84319100e-02, -1.85885234e-02,\n",
       "       -1.87453832e-02, -1.89024875e-02, -1.90598346e-02, -1.92174224e-02,\n",
       "       -1.93752492e-02, -1.95333131e-02, -1.96916122e-02, -1.98501448e-02,\n",
       "       -2.00089091e-02, -2.01679033e-02, -2.03271257e-02, -2.04865744e-02,\n",
       "       -2.06462478e-02, -2.08061443e-02, -2.09662619e-02, -2.11265992e-02,\n",
       "       -2.12871545e-02, -2.14479260e-02, -2.16089122e-02, -2.17701115e-02,\n",
       "       -2.19315222e-02, -2.20931427e-02, -2.22549715e-02, -2.24170071e-02,\n",
       "       -2.25792478e-02, -2.27416921e-02, -2.29043386e-02, -2.30671857e-02,\n",
       "       -2.32302320e-02, -2.33934758e-02, -2.35569159e-02, -2.37205507e-02,\n",
       "       -2.38843788e-02, -2.40483987e-02, -2.42126091e-02, -2.43770085e-02,\n",
       "       -2.45415956e-02, -2.47063690e-02, -2.48713272e-02, -2.50364691e-02,\n",
       "       -2.52017931e-02, -2.53672980e-02, -2.55329825e-02, -2.56988452e-02,\n",
       "       -2.58648849e-02, -2.60311002e-02, -2.61974900e-02, -2.63640529e-02,\n",
       "       -2.65307876e-02, -2.66976930e-02, -2.68647678e-02, -2.70320108e-02,\n",
       "       -2.71994207e-02, -2.73669964e-02, -2.75347367e-02, -2.77026404e-02,\n",
       "       -2.78707064e-02, -2.80389334e-02, -2.82073203e-02, -2.83758660e-02,\n",
       "       -2.85445694e-02, -2.87134293e-02, -2.88824446e-02, -2.90516142e-02,\n",
       "       -2.92209370e-02, -2.93904120e-02, -2.95600380e-02, -2.97298141e-02,\n",
       "       -2.98997390e-02, -3.00698119e-02, -3.02400316e-02, -3.04103971e-02,\n",
       "       -3.05809075e-02, -3.07515616e-02, -3.09223585e-02, -3.10932971e-02,\n",
       "       -3.12643766e-02, -3.14355959e-02, -3.16069540e-02, -3.17784500e-02,\n",
       "       -3.19500830e-02, -3.21218519e-02, -3.22937558e-02, -3.24657939e-02,\n",
       "       -3.26379651e-02, -3.28102685e-02, -3.29827034e-02, -3.31552686e-02,\n",
       "       -3.33279635e-02, -3.35007870e-02, -3.36737382e-02, -3.38468164e-02,\n",
       "       -3.40200207e-02, -3.41933501e-02, -3.43668038e-02, -3.45403811e-02,\n",
       "       -3.47140810e-02, -3.48879027e-02, -3.50618455e-02, -3.52359084e-02,\n",
       "       -3.54100907e-02, -3.55843915e-02, -3.57588102e-02, -3.59333458e-02,\n",
       "       -3.61079976e-02, -3.62827648e-02, -3.64576467e-02, -3.66326424e-02,\n",
       "       -3.68077513e-02, -3.69829725e-02, -3.71583053e-02, -3.73337491e-02,\n",
       "       -3.75093029e-02, -3.76849662e-02, -3.78607382e-02, -3.80366181e-02,\n",
       "       -3.82126053e-02, -3.83886990e-02, -3.85648986e-02, -3.87412034e-02,\n",
       "       -3.89176126e-02, -3.90941256e-02, -3.92707417e-02, -3.94474602e-02,\n",
       "       -3.96242806e-02, -3.98012020e-02, -3.99782238e-02, -4.01553454e-02,\n",
       "       -4.03325662e-02, -4.05098855e-02, -4.06873027e-02, -4.08648170e-02,\n",
       "       -4.10424280e-02, -4.12201350e-02, -4.13979374e-02, -4.15758345e-02,\n",
       "       -4.17538257e-02, -4.19319105e-02, -4.21100883e-02, -4.22883584e-02,\n",
       "       -4.24667203e-02, -4.26451734e-02, -4.28237171e-02, -4.30023508e-02,\n",
       "       -4.31810739e-02, -4.33598860e-02, -4.35387864e-02, -4.37177746e-02,\n",
       "       -4.38968500e-02, -4.40760121e-02, -4.42552603e-02, -4.44345941e-02,\n",
       "       -4.46140130e-02, -4.47935163e-02, -4.49731037e-02, -4.51527746e-02,\n",
       "       -4.53325284e-02, -4.55123647e-02, -4.56922829e-02, -4.58722825e-02,\n",
       "       -4.60523630e-02, -4.62325239e-02, -4.64127648e-02, -4.65930851e-02,\n",
       "       -4.67734843e-02, -4.69539620e-02, -4.71345177e-02, -4.73151509e-02,\n",
       "       -4.74958610e-02, -4.76766478e-02, -4.78575106e-02, -4.80384491e-02,\n",
       "       -4.82194627e-02, -4.84005510e-02, -4.85817136e-02, -4.87629500e-02,\n",
       "       -4.89442598e-02, -4.91256425e-02, -4.93070976e-02, -4.94886249e-02,\n",
       "       -4.96702237e-02, -4.98518937e-02, -5.00336344e-02, -5.02154455e-02,\n",
       "       -5.03973265e-02, -5.05792770e-02, -5.07612966e-02, -5.09433849e-02,\n",
       "       -5.11255414e-02, -5.13077658e-02, -5.14900577e-02, -5.16724166e-02,\n",
       "       -5.18548422e-02, -5.20373340e-02, -5.22198918e-02, -5.24025150e-02,\n",
       "       -5.25852033e-02, -5.27679564e-02, -5.29507739e-02, -5.31336553e-02,\n",
       "       -5.33166003e-02, -5.34996086e-02, -5.36826797e-02, -5.38658133e-02,\n",
       "       -5.40490091e-02, -5.42322666e-02, -5.44155856e-02, -5.45989657e-02,\n",
       "       -5.47824064e-02, -5.49659076e-02, -5.51494687e-02, -5.53330896e-02,\n",
       "       -5.55167697e-02, -5.57005089e-02, -5.58843068e-02, -5.60681629e-02,\n",
       "       -5.62520771e-02, -5.64360489e-02, -5.66200781e-02, -5.68041643e-02,\n",
       "       -5.69883071e-02, -5.71725064e-02, -5.73567617e-02, -5.75410727e-02,\n",
       "       -5.77254392e-02, -5.79098608e-02, -5.80943372e-02, -5.82788680e-02,\n",
       "       -5.84634531e-02, -5.86480921e-02, -5.88327846e-02, -5.90175305e-02,\n",
       "       -5.92023293e-02, -5.93871809e-02, -5.95720849e-02, -5.97570409e-02,\n",
       "       -5.99420489e-02, -6.01271083e-02, -6.03122190e-02, -6.04973808e-02,\n",
       "       -6.06825932e-02, -6.08678560e-02, -6.10531690e-02, -6.12385318e-02,\n",
       "       -6.14239443e-02, -6.16094061e-02, -6.17949169e-02, -6.19804765e-02,\n",
       "       -6.21660847e-02, -6.23517412e-02, -6.25374456e-02, -6.27231978e-02,\n",
       "       -6.29089975e-02, -6.30948444e-02, -6.32807383e-02, -6.34666789e-02,\n",
       "       -6.36526660e-02, -6.38386994e-02, -6.40247787e-02, -6.42109037e-02,\n",
       "       -6.43970743e-02, -6.45832901e-02, -6.47695509e-02, -6.49558565e-02,\n",
       "       -6.51422066e-02, -6.53286010e-02, -6.55150394e-02, -6.57015217e-02,\n",
       "       -6.58880476e-02, -6.60746169e-02, -6.62612293e-02, -6.64478846e-02,\n",
       "       -6.66345826e-02, -6.68213231e-02, -6.70081059e-02, -6.71949306e-02,\n",
       "       -6.73817972e-02, -6.75687053e-02, -6.77556549e-02, -6.79426455e-02,\n",
       "       -6.81296772e-02, -6.83167495e-02, -6.85038624e-02, -6.86910156e-02,\n",
       "       -6.88782090e-02, -6.90654422e-02, -6.92527151e-02, -6.94400275e-02,\n",
       "       -6.96273792e-02, -6.98147700e-02, -7.00021996e-02, -7.01896680e-02,\n",
       "       -7.03771749e-02, -7.05647200e-02, -7.07523033e-02, -7.09399245e-02,\n",
       "       -7.11275834e-02, -7.13152798e-02, -7.15030136e-02, -7.16907845e-02,\n",
       "       -7.18785924e-02, -7.20664371e-02, -7.22543183e-02, -7.24422360e-02,\n",
       "       -7.26301899e-02, -7.28181799e-02, -7.30062057e-02, -7.31942672e-02,\n",
       "       -7.33823642e-02, -7.35704966e-02, -7.37586641e-02, -7.39468667e-02,\n",
       "       -7.41351040e-02, -7.43233759e-02, -7.45116824e-02, -7.47000231e-02,\n",
       "       -7.48883980e-02, -7.50768068e-02, -7.52652495e-02, -7.54537257e-02,\n",
       "       -7.56422355e-02, -7.58307785e-02, -7.60193547e-02, -7.62079639e-02,\n",
       "       -7.63966059e-02, -7.65852805e-02, -7.67739877e-02, -7.69627272e-02,\n",
       "       -7.71514989e-02, -7.73403026e-02, -7.75291382e-02, -7.77180055e-02,\n",
       "       -7.79069044e-02, -7.80958347e-02, -7.82847963e-02, -7.84737890e-02,\n",
       "       -7.86628127e-02, -7.88518672e-02, -7.90409524e-02, -7.92300681e-02,\n",
       "       -7.94192142e-02, -7.96083906e-02, -7.97975970e-02, -7.99868334e-02,\n",
       "       -8.01760996e-02, -8.03653955e-02, -8.05547209e-02, -8.07440757e-02,\n",
       "       -8.09334598e-02, -8.11228730e-02, -8.13123152e-02, -8.15017862e-02,\n",
       "       -8.16912859e-02, -8.18808142e-02, -8.20703710e-02, -8.22599560e-02,\n",
       "       -8.24495693e-02, -8.26392106e-02, -8.28288798e-02, -8.30185768e-02,\n",
       "       -8.32083014e-02, -8.33980536e-02, -8.35878332e-02, -8.37776401e-02,\n",
       "       -8.39674741e-02, -8.41573352e-02, -8.43472231e-02, -8.45371379e-02,\n",
       "       -8.47270793e-02, -8.49170472e-02, -8.51070416e-02, -8.52970622e-02,\n",
       "       -8.54871091e-02, -8.56771820e-02, -8.58672808e-02, -8.60574054e-02,\n",
       "       -8.62475558e-02, -8.64377317e-02, -8.66279331e-02, -8.68181599e-02,\n",
       "       -8.70084119e-02, -8.71986890e-02, -8.73889912e-02, -8.75793183e-02,\n",
       "       -8.77696701e-02, -8.79600467e-02, -8.81504478e-02, -8.83408733e-02,\n",
       "       -8.85313233e-02, -8.87217974e-02, -8.89122957e-02, -8.91028181e-02,\n",
       "       -8.92933643e-02, -8.94839344e-02, -8.96745282e-02, -8.98651456e-02,\n",
       "       -9.00557865e-02, -9.02464508e-02, -9.04371384e-02, -9.06278492e-02,\n",
       "       -9.08185831e-02, -9.10093400e-02, -9.12001197e-02, -9.13909223e-02,\n",
       "       -9.15817475e-02, -9.17725954e-02, -9.19634657e-02, -9.21543585e-02,\n",
       "       -9.23452735e-02, -9.25362107e-02, -9.27271701e-02, -9.29181514e-02,\n",
       "       -9.31091547e-02, -9.33001798e-02, -9.34912266e-02, -9.36822951e-02,\n",
       "       -9.38733851e-02, -9.40644965e-02, -9.42556293e-02, -9.44467834e-02,\n",
       "       -9.46379587e-02, -9.48291550e-02, -9.50203723e-02, -9.52116105e-02,\n",
       "       -9.54028696e-02, -9.55941494e-02, -9.57854498e-02, -9.59767707e-02,\n",
       "       -9.61681122e-02, -9.63594740e-02, -9.65508561e-02, -9.67422584e-02,\n",
       "       -9.69336808e-02, -9.71251233e-02, -9.73165857e-02, -9.75080680e-02,\n",
       "       -9.76995701e-02, -9.78910919e-02, -9.80826333e-02, -9.82741943e-02,\n",
       "       -9.84657747e-02, -9.86573745e-02, -9.88489936e-02, -9.90406319e-02,\n",
       "       -9.92322893e-02, -9.94239658e-02, -9.96156613e-02, -9.98073757e-02,\n",
       "       -9.99991089e-02, -1.00190861e-01, -1.00382631e-01, -1.00574421e-01,\n",
       "       -1.00766228e-01, -1.00958055e-01, -1.01149899e-01, -1.01341762e-01,\n",
       "       -1.01533643e-01, -1.01725542e-01, -1.01917459e-01, -1.02109395e-01,\n",
       "       -1.02301348e-01, -1.02493319e-01, -1.02685307e-01, -1.02877314e-01,\n",
       "       -1.03069338e-01, -1.03261380e-01, -1.03453439e-01, -1.03645515e-01,\n",
       "       -1.03837609e-01, -1.04029721e-01, -1.04221849e-01, -1.04413995e-01,\n",
       "       -1.04606157e-01, -1.04798337e-01, -1.04990533e-01, -1.05182747e-01,\n",
       "       -1.05374977e-01, -1.05567224e-01, -1.05759488e-01, -1.05951768e-01,\n",
       "       -1.06144065e-01, -1.06336378e-01, -1.06528708e-01, -1.06721054e-01,\n",
       "       -1.06913416e-01, -1.07105794e-01, -1.07298189e-01, -1.07490600e-01,\n",
       "       -1.07683026e-01, -1.07875469e-01, -1.08067928e-01, -1.08260402e-01,\n",
       "       -1.08452892e-01, -1.08645398e-01, -1.08837920e-01, -1.09030457e-01,\n",
       "       -1.09223010e-01, -1.09415578e-01, -1.09608161e-01, -1.09800760e-01,\n",
       "       -1.09993374e-01, -1.10186004e-01, -1.10378648e-01, -1.10571308e-01,\n",
       "       -1.10763983e-01, -1.10956673e-01, -1.11149377e-01, -1.11342097e-01,\n",
       "       -1.11534831e-01, -1.11727580e-01, -1.11920344e-01, -1.12113123e-01,\n",
       "       -1.12305916e-01, -1.12498724e-01, -1.12691546e-01, -1.12884382e-01,\n",
       "       -1.13077233e-01, -1.13270099e-01, -1.13462978e-01, -1.13655872e-01,\n",
       "       -1.13848780e-01, -1.14041702e-01, -1.14234638e-01, -1.14427588e-01,\n",
       "       -1.14620552e-01, -1.14813530e-01, -1.15006522e-01, -1.15199527e-01,\n",
       "       -1.15392547e-01, -1.15585580e-01, -1.15778626e-01, -1.15971687e-01,\n",
       "       -1.16164760e-01, -1.16357848e-01, -1.16550948e-01, -1.16744062e-01,\n",
       "       -1.16937190e-01, -1.17130331e-01, -1.17323484e-01, -1.17516652e-01,\n",
       "       -1.17709832e-01, -1.17903025e-01, -1.18096232e-01, -1.18289451e-01,\n",
       "       -1.18482683e-01, -1.18675929e-01, -1.18869187e-01, -1.19062458e-01,\n",
       "       -1.19255741e-01, -1.19449038e-01, -1.19642347e-01, -1.19835668e-01,\n",
       "       -1.20029003e-01, -1.20222349e-01, -1.20415709e-01, -1.20609080e-01,\n",
       "       -1.20802465e-01, -1.20995861e-01, -1.21189270e-01, -1.21382691e-01,\n",
       "       -1.21576124e-01, -1.21769569e-01, -1.21963027e-01, -1.22156496e-01,\n",
       "       -1.22349978e-01, -1.22543472e-01, -1.22736977e-01, -1.22930495e-01,\n",
       "       -1.23124024e-01, -1.23317565e-01, -1.23511118e-01, -1.23704683e-01,\n",
       "       -1.23898259e-01, -1.24091847e-01, -1.24285447e-01, -1.24479058e-01,\n",
       "       -1.24672681e-01, -1.24866315e-01, -1.25059961e-01, -1.25253618e-01,\n",
       "       -1.25447287e-01, -1.25640967e-01, -1.25834658e-01, -1.26028360e-01,\n",
       "       -1.26222074e-01, -1.26415799e-01, -1.26609535e-01, -1.26803282e-01,\n",
       "       -1.26997040e-01, -1.27190809e-01, -1.27384589e-01, -1.27578380e-01,\n",
       "       -1.27772182e-01, -1.27965994e-01, -1.28159818e-01, -1.28353652e-01,\n",
       "       -1.28547498e-01, -1.28741353e-01, -1.28935220e-01, -1.29129097e-01,\n",
       "       -1.29322985e-01, -1.29516883e-01, -1.29710792e-01, -1.29904711e-01,\n",
       "       -1.30098641e-01, -1.30292582e-01, -1.30486532e-01, -1.30680493e-01,\n",
       "       -1.30874464e-01, -1.31068446e-01, -1.31262438e-01, -1.31456440e-01,\n",
       "       -1.31650452e-01, -1.31844474e-01, -1.32038507e-01, -1.32232549e-01,\n",
       "       -1.32426602e-01, -1.32620665e-01, -1.32814737e-01, -1.33008820e-01,\n",
       "       -1.33202912e-01, -1.33397014e-01, -1.33591126e-01, -1.33785248e-01,\n",
       "       -1.33979380e-01, -1.34173521e-01, -1.34367672e-01, -1.34561833e-01,\n",
       "       -1.34756004e-01, -1.34950184e-01, -1.35144373e-01, -1.35338572e-01,\n",
       "       -1.35532781e-01, -1.35726999e-01, -1.35921227e-01, -1.36115464e-01,\n",
       "       -1.36309710e-01, -1.36503966e-01, -1.36698231e-01, -1.36892505e-01,\n",
       "       -1.37086789e-01, -1.37281082e-01, -1.37475384e-01, -1.37669695e-01,\n",
       "       -1.37864015e-01, -1.38058345e-01, -1.38252683e-01, -1.38447031e-01,\n",
       "       -1.38641388e-01, -1.38835753e-01, -1.39030128e-01, -1.39224511e-01,\n",
       "       -1.39418904e-01, -1.39613305e-01, -1.39807715e-01, -1.40002134e-01,\n",
       "       -1.40196562e-01, -1.40390998e-01, -1.40585443e-01, -1.40779897e-01,\n",
       "       -1.40974360e-01, -1.41168831e-01, -1.41363311e-01, -1.41557800e-01,\n",
       "       -1.41752297e-01, -1.41946802e-01, -1.42141316e-01, -1.42335839e-01,\n",
       "       -1.42530370e-01, -1.42724909e-01, -1.42919457e-01, -1.43114013e-01,\n",
       "       -1.43308578e-01, -1.43503150e-01, -1.43697731e-01, -1.43892321e-01,\n",
       "       -1.44086918e-01, -1.44281524e-01, -1.44476138e-01, -1.44670761e-01,\n",
       "       -1.44865391e-01, -1.45060029e-01, -1.45254676e-01, -1.45449330e-01,\n",
       "       -1.45643993e-01, -1.45838664e-01, -1.46033342e-01, -1.46228029e-01,\n",
       "       -1.46422723e-01, -1.46617426e-01, -1.46812136e-01, -1.47006854e-01,\n",
       "       -1.47201580e-01, -1.47396314e-01, -1.47591055e-01, -1.47785804e-01,\n",
       "       -1.47980562e-01, -1.48175326e-01, -1.48370099e-01, -1.48564879e-01,\n",
       "       -1.48759667e-01, -1.48954462e-01, -1.49149265e-01, -1.49344075e-01,\n",
       "       -1.49538893e-01, -1.49733719e-01, -1.49928552e-01, -1.50123392e-01,\n",
       "       -1.50318240e-01, -1.50513096e-01, -1.50707959e-01, -1.50902829e-01,\n",
       "       -1.51097706e-01, -1.51292591e-01, -1.51487483e-01, -1.51682383e-01,\n",
       "       -1.51877290e-01, -1.52072204e-01, -1.52267125e-01, -1.52462053e-01,\n",
       "       -1.52656989e-01, -1.52851932e-01, -1.53046882e-01, -1.53241839e-01,\n",
       "       -1.53436803e-01, -1.53631774e-01, -1.53826752e-01, -1.54021738e-01,\n",
       "       -1.54216730e-01, -1.54411729e-01, -1.54606735e-01, -1.54801749e-01,\n",
       "       -1.54996769e-01, -1.55191796e-01, -1.55386830e-01, -1.55581870e-01,\n",
       "       -1.55776918e-01, -1.55971972e-01, -1.56167034e-01, -1.56362102e-01,\n",
       "       -1.56557176e-01, -1.56752258e-01, -1.56947346e-01, -1.57142441e-01,\n",
       "       -1.57337543e-01, -1.57532651e-01, -1.57727766e-01, -1.57922887e-01,\n",
       "       -1.58118015e-01, -1.58313150e-01, -1.58508291e-01, -1.58703439e-01,\n",
       "       -1.58898593e-01, -1.59093754e-01, -1.59288921e-01, -1.59484095e-01,\n",
       "       -1.59679275e-01, -1.59874462e-01, -1.60069655e-01, -1.60264854e-01,\n",
       "       -1.60460060e-01, -1.60655272e-01, -1.60850491e-01, -1.61045716e-01,\n",
       "       -1.61240947e-01, -1.61436184e-01, -1.61631428e-01, -1.61826678e-01,\n",
       "       -1.62021934e-01, -1.62217196e-01, -1.62412464e-01, -1.62607739e-01,\n",
       "       -1.62803020e-01, -1.62998307e-01, -1.63193600e-01, -1.63388899e-01,\n",
       "       -1.63584204e-01, -1.63779515e-01, -1.63974833e-01, -1.64170156e-01,\n",
       "       -1.64365485e-01, -1.64560821e-01, -1.64756162e-01, -1.64951509e-01,\n",
       "       -1.65146863e-01, -1.65342222e-01, -1.65537587e-01, -1.65732958e-01,\n",
       "       -1.65928334e-01, -1.66123717e-01, -1.66319106e-01, -1.66514500e-01,\n",
       "       -1.66709900e-01, -1.66905306e-01, -1.67100718e-01, -1.67296135e-01,\n",
       "       -1.67491558e-01, -1.67686987e-01, -1.67882422e-01, -1.68077862e-01,\n",
       "       -1.68273308e-01, -1.68468760e-01, -1.68664217e-01, -1.68859680e-01,\n",
       "       -1.69055148e-01, -1.69250623e-01, -1.69446102e-01, -1.69641587e-01,\n",
       "       -1.69837078e-01, -1.70032575e-01, -1.70228076e-01, -1.70423584e-01,\n",
       "       -1.70619097e-01, -1.70814615e-01, -1.71010139e-01, -1.71205668e-01,\n",
       "       -1.71401203e-01, -1.71596743e-01, -1.71792288e-01, -1.71987839e-01,\n",
       "       -1.72183395e-01, -1.72378957e-01, -1.72574524e-01, -1.72770096e-01,\n",
       "       -1.72965673e-01, -1.73161256e-01, -1.73356844e-01, -1.73552437e-01])"
      ]
     },
     "execution_count": 70,
     "metadata": {},
     "output_type": "execute_result"
    }
   ],
   "source": [
    "q_tot = []\n",
    "for i in temp:\n",
    "    q_temp = 0\n",
    "    for j in eig:\n",
    "        q_temp = np.exp(-j/(kb*i)) + q_temp\n",
    "        \n",
    "    q_tot.append(q_temp)\n",
    "# print(np.array(q_tot))\n",
    "\n",
    "qwave.free_A(q_can,temp,kb)"
   ]
  },
  {
   "cell_type": "code",
   "execution_count": null,
   "metadata": {},
   "outputs": [],
   "source": [
    "num = np.exp(-eig[1]/(kb*100000))\n",
    "den = 0\n",
    "for i in eig:\n",
    "    test = np.exp(-i/(kb*100000))\n",
    "    den = den + test\n",
    "    \n",
    "num/den"
   ]
  },
  {
   "cell_type": "code",
   "execution_count": 52,
   "metadata": {},
   "outputs": [
    {
     "data": {
      "text/plain": [
       "[<matplotlib.lines.Line2D at 0x7fef580348d0>]"
      ]
     },
     "execution_count": 52,
     "metadata": {},
     "output_type": "execute_result"
    },
    {
     "data": {
      "image/png": "[encoded data removed]",
      "text/plain": [
       "<Figure size 432x288 with 1 Axes>"
      ]
     },
     "metadata": {
      "needs_background": "light"
     },
     "output_type": "display_data"
    }
   ],
   "source": [
    "plt.plot(temp,h)"
   ]
  },
  {
   "cell_type": "code",
   "execution_count": null,
   "metadata": {},
   "outputs": [],
   "source": [
    "eig[0]/kb"
   ]
  },
  {
   "cell_type": "code",
   "execution_count": null,
   "metadata": {},
   "outputs": [],
   "source": [
    "# We will test the partition function modules on the C-Pt(100) example\n",
    "\n",
    "from qwave import qwave\n",
    "import csv \n",
    "from scipy import constants\n",
    "import numpy as np\n",
    "\n",
    "\n",
    "bohr_to_m = constants.physical_constants['Bohr radius'][0] # convert from bohr to meter\n",
    "ang_to_m = constants.physical_constants['Angstrom star'][0] # convert from angstrom to meter\n",
    "\n",
    "au_to_kg = constants.physical_constants['atomic unit of mass'][0]  # convert from au to kg\n",
    "am_to_kg = constants.physical_constants['atomic mass constant'][0] # convert from am to kg\n",
    "\n",
    "h_to_eV = constants.physical_constants['Hartree energy in eV'][0] # convert from Eh to eV\n",
    "\n",
    "x=[] # store data in csv\n",
    "y=[]\n",
    "\n",
    "with open('./arbitrary.csv') as csvfile:                # read csvfile\n",
    "    csvreader = csv.reader( csvfile,delimiter =',')\n",
    "    for row in csvreader:\n",
    "        x.append(float(row[0]))\n",
    "        y.append(float(row[1]))\n",
    "\n",
    "xdata = np.multiply(x,(ang_to_m/bohr_to_m))\n",
    "ydata = np.multiply(y,1/h_to_eV)\n",
    "\n",
    "results = np.vstack((xdata,ydata)).T\n",
    "\n",
    "np.savetxt('./scaled-arbitrary.csv',results,delimiter=',')\n",
    "\n",
    "bl = xdata[-1]-xdata[0]      # box length (centered at zerop)\n",
    "m = 12 * (am_to_kg/au_to_kg) # atomic unit of mass of C atom\n",
    "eigen,wave = qwave.schrodinger_box(bl,m,\n",
    "                                   pot_func='./scaled-arbitrary.csv',\n",
    "                                   len_eigval = 10, \n",
    "                                   unit='eV')\n",
    "\n",
    "# Now that we have the eigen values, we simply need to call the q_PESq() module, and \n",
    "# specify the eigen values, the temperature range, and the unit the eigenvalues are in.\n",
    "# Note: you should look at the eigenvalues before evaluating anything and modify the \n",
    "# len_eigval parameter as needed. For this example we will just use the first 10 eigenvalues\n",
    "\n",
    "temp = np.linspace(10,1200) # module will not work at very very low temperatures\n",
    "Q_pesq = np.array(qwave.q_PESq(eigen,temp,'eV'))\n",
    "\n"
   ]
  },
  {
   "cell_type": "markdown",
   "metadata": {},
   "source": [
    "## q_HO"
   ]
  },
  {
   "cell_type": "markdown",
   "metadata": {},
   "source": [
    "We have also implimented the ability to compute the partition function given the frequency for the harmonic oscillator. It work very similarly as the q_PESq() module, except it evaluates:"
   ]
  },
  {
   "cell_type": "markdown",
   "metadata": {},
   "source": [
    "$$q_{\\text{HO}} =\\frac{\\exp(\\frac{h\\nu}{2 k_{b} T})}{1-\\exp(\\frac{h\\nu}{ k_{b} T})}$$"
   ]
  },
  {
   "cell_type": "markdown",
   "metadata": {},
   "source": [
    "where $h$, and $\\nu$ are Plancks constant and frequency (in cm-1) respectively. "
   ]
  },
  {
   "cell_type": "code",
   "execution_count": null,
   "metadata": {},
   "outputs": [],
   "source": [
    "# We are going to make up a frequency here that is more intense than what we computed\n",
    "# to illustrate a point made later\n",
    "\n",
    "freq_inplane = 643 # in-plane frequency vibration (degenerate)\n",
    "freq_normal = 249 # out-of-plane frequency vibration\n",
    "\n",
    "Q_HO_in = qwave.q_HO(freq_inplane,temp,'eV')\n",
    "Q_HO_out = qwave.q_HO(freq_normal,temp,'eV')"
   ]
  },
  {
   "cell_type": "markdown",
   "metadata": {},
   "source": [
    "With these partion functions, we can evaluate some thermodynamic properties"
   ]
  },
  {
   "cell_type": "markdown",
   "metadata": {},
   "source": [
    "## free_A_S()"
   ]
  },
  {
   "cell_type": "markdown",
   "metadata": {},
   "source": [
    "free_A_S() module computes the helmholtz free energy (which is the free energy which corresponds with this ensemble) and the entropy. These are computed as:"
   ]
  },
  {
   "cell_type": "markdown",
   "metadata": {},
   "source": [
    "$$A = -k_{b}T\\ln(\\prod_{i=\\text{DOF}}q_{i})$$\n",
    "<br>\n",
    "$$S = -\\frac{\\partial A}{\\partial T} $$"
   ]
  },
  {
   "cell_type": "markdown",
   "metadata": {},
   "source": [
    "where $i$ covers the availible degrees of freedom. Since we are dealing with a monatomic atom, all we have are the translations of the atom on the surface (translations in the x,y,z). Note 1: you can approximate these translations as frustrated vibrations on the surface. Note 2: for simplicity, we will assume that the motion normal to the surface can always be treated within the harmonic approximaiton, so $q_{z}$ will come from the freq_normal, but you are more than welcome to compute the out of plane potential and evaluate the eigenvalues for that potentials. Also we will assume that the in-plane motions are degenerate."
   ]
  },
  {
   "cell_type": "markdown",
   "metadata": {},
   "source": [
    "free_A_S() takes three parameters: q, temp, and unit. It returns both the free energy and entropy."
   ]
  },
  {
   "cell_type": "code",
   "execution_count": null,
   "metadata": {},
   "outputs": [],
   "source": [
    "Q_HO_Tot = (Q_HO_in*Q_HO_in*Q_HO_out)\n",
    "A_HO,S_HO = qwave.free_A_S(Q_HO_Tot,temp,'eV')\n",
    "\n",
    "Q_PESq_Tot = (Q_pesq*Q_pesq*Q_HO_out)\n",
    "A_PESq,S_PESq = qwave.free_A_S(Q_PESq_Tot,temp,'eV')"
   ]
  },
  {
   "cell_type": "code",
   "execution_count": null,
   "metadata": {},
   "outputs": [],
   "source": [
    "import matplotlib.pyplot as plt\n",
    "\n",
    "plt.plot(temp,A_PESq*1000,linewidth=3,color='blue')\n",
    "plt.plot(temp,A_HO*1000,linewidth=3,color='red')\n",
    "plt.xticks(size=14)\n",
    "plt.yticks(size=14)\n",
    "plt.ylabel('A (meV)',size=14)\n",
    "plt.xlabel('Temperature (K)',size=14)\n",
    "plt.legend(['PESq model','HO model'],fontsize=14)\n",
    "plt.show()\n",
    "\n",
    "plt.plot(temp,S_PESq*1000,linewidth=3,color='blue')\n",
    "plt.plot(temp,S_HO*1000,linewidth=3,color='red')\n",
    "plt.xticks(size=14)\n",
    "plt.yticks(size=14)\n",
    "plt.ylabel('S (meV/K)',size=14)\n",
    "plt.xlabel('Temperature (K)',size=14)\n",
    "plt.legend(['PESq model','HO model'],fontsize=14)\n",
    "plt.show()"
   ]
  },
  {
   "cell_type": "markdown",
   "metadata": {},
   "source": [
    "As you can see the harmonic oscillator model overestimate and underestimates the free energy and entropy respectively. The PESq model captures the full affect of anharmonic motions to calculate free energies and entropies. If we used the true frequency (543 cm-1) in the above calculations, the two lines would lie ontop of each other because the HO potential capture the actual potential very well (as seen in the other example notbook)"
   ]
  },
  {
   "cell_type": "code",
   "execution_count": null,
   "metadata": {},
   "outputs": [],
   "source": []
  },
  {
   "cell_type": "code",
   "execution_count": 42,
   "metadata": {},
   "outputs": [
    {
     "name": "stderr",
     "output_type": "stream",
     "text": [
      "/afs/crc.nd.edu/user/c/cwaitt/.local/lib/python3.7/site-packages/ipykernel_launcher.py:1: RuntimeWarning: divide by zero encountered in log\n",
      "  \"\"\"Entry point for launching an IPython kernel.\n"
     ]
    },
    {
     "data": {
      "text/plain": [
       "-inf"
      ]
     },
     "execution_count": 42,
     "metadata": {},
     "output_type": "execute_result"
    }
   ],
   "source": [
    "np.log(np.exp(-5e+325))"
   ]
  },
  {
   "cell_type": "code",
   "execution_count": 37,
   "metadata": {},
   "outputs": [
    {
     "data": {
      "text/plain": [
       "1.0"
      ]
     },
     "execution_count": 37,
     "metadata": {},
     "output_type": "execute_result"
    }
   ],
   "source": [
    "np.exp(-np.nextafter(0,1))"
   ]
  },
  {
   "cell_type": "code",
   "execution_count": 34,
   "metadata": {},
   "outputs": [
    {
     "data": {
      "text/plain": [
       "5e-324"
      ]
     },
     "execution_count": 34,
     "metadata": {},
     "output_type": "execute_result"
    }
   ],
   "source": [
    "np.nextafter(0,1)"
   ]
  },
  {
   "cell_type": "code",
   "execution_count": 64,
   "metadata": {},
   "outputs": [
    {
     "data": {
      "text/plain": [
       "1837.7428916456254"
      ]
     },
     "execution_count": 64,
     "metadata": {},
     "output_type": "execute_result"
    }
   ],
   "source": [
    "1.674e-27/9.109e-31"
   ]
  },
  {
   "cell_type": "code",
   "execution_count": 68,
   "metadata": {},
   "outputs": [
    {
     "data": {
      "text/plain": [
       "1822.888486217313"
      ]
     },
     "execution_count": 68,
     "metadata": {},
     "output_type": "execute_result"
    }
   ],
   "source": [
    "kg_amu = constants.physical_constants['atomic mass constant'][0]\n",
    "kg_au = constants.physical_constants['atomic unit of mass'][0]\n",
    "\n",
    "1 * kg_amu /kg_au"
   ]
  },
  {
   "cell_type": "code",
   "execution_count": null,
   "metadata": {},
   "outputs": [],
   "source": []
  }
 ],
 "metadata": {
  "kernelspec": {
   "display_name": "Python 3",
   "language": "python",
   "name": "python3"
  },
  "language_info": {
   "codemirror_mode": {
    "name": "ipython",
    "version": 3
   },
   "file_extension": ".py",
   "mimetype": "text/x-python",
   "name": "python",
   "nbconvert_exporter": "python",
   "pygments_lexer": "ipython3",
   "version": "3.7.3"
  }
 },
 "nbformat": 4,
 "nbformat_minor": 4
}
