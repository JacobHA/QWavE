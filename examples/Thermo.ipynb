{
 "cells": [
  {
   "cell_type": "markdown",
   "metadata": {},
   "source": [
    "# Evaluating Thermodynamic Functions"
   ]
  },
  {
   "cell_type": "markdown",
   "metadata": {},
   "source": [
    "QWavE has also implimented to evaluate the partition function from the results of the schrodinger equation, and compute free energy and entropies (other thermodynamic parameters coming soon!) Compared to the schrodinger_X() modules, computing the is fairly straight forward"
   ]
  },
  {
   "cell_type": "markdown",
   "metadata": {},
   "source": [
    "# q_PESq()"
   ]
  },
  {
   "cell_type": "markdown",
   "metadata": {},
   "source": [
    "The q_PESq() module evaluates the canonical partition function:"
   ]
  },
  {
   "cell_type": "markdown",
   "metadata": {},
   "source": [
    "$$q_{\\text{PESq}} = \\sum_{i=1} \\exp(-\\frac{E_{i}}{k_{b} T})$$"
   ]
  },
  {
   "cell_type": "markdown",
   "metadata": {},
   "source": [
    "where $E_{i}$, $k_{b}$, and $T$, are the eigenvales from the schrodinger equation modules, the Boltzmann constant, and temperature respectively. "
   ]
  },
  {
   "cell_type": "code",
   "execution_count": 9,
   "metadata": {},
   "outputs": [],
   "source": [
    "# We will test the partition function modules on the C-Pt(100) example\n",
    "\n",
    "from qwave import qwave\n",
    "import csv \n",
    "from scipy import constants\n",
    "import numpy as np\n",
    "\n",
    "\n",
    "bohr_to_m = constants.physical_constants['Bohr radius'][0] # convert from bohr to meter\n",
    "ang_to_m = constants.physical_constants['Angstrom star'][0] # convert from angstrom to meter\n",
    "\n",
    "au_to_kg = constants.physical_constants['atomic unit of mass'][0]  # convert from au to kg\n",
    "am_to_kg = constants.physical_constants['atomic mass constant'][0] # convert from am to kg\n",
    "\n",
    "h_to_eV = constants.physical_constants['Hartree energy in eV'][0] # convert from Eh to eV\n",
    "\n",
    "x=[] # store data in csv\n",
    "y=[]\n",
    "\n",
    "with open('./arbitrary.csv') as csvfile:                # read csvfile\n",
    "    csvreader = csv.reader( csvfile,delimiter =',')\n",
    "    for row in csvreader:\n",
    "        x.append(float(row[0]))\n",
    "        y.append(float(row[1]))\n",
    "\n",
    "xdata = np.multiply(x,(ang_to_m/bohr_to_m))\n",
    "ydata = np.multiply(y,1/h_to_eV)\n",
    "\n",
    "results = np.vstack((xdata,ydata)).T\n",
    "\n",
    "np.savetxt('./scaled-arbitrary.csv',results,delimiter=',')\n",
    "\n",
    "bl = xdata[-1]-xdata[0]      # box length (centered at zerop)\n",
    "m = 12 * (am_to_kg/au_to_kg) # atomic unit of mass of C atom\n",
    "eigen,wave = qwave.schrodinger_box(bl,m,\n",
    "                                   pot_func='./scaled-arbitrary.csv',\n",
    "                                   len_eigval = 10, \n",
    "                                   unit='eV')\n",
    "\n",
    "# Now that we have the eigen values, we simply need to call the q_PESq() module, and \n",
    "# specify the eigen values, the temperature range, and the unit the eigenvalues are in.\n",
    "# Note: you should look at the eigenvalues before evaluating anything and modify the \n",
    "# len_eigval parameter as needed. For this example we will just use the first 10 eigenvalues\n",
    "\n",
    "temp = np.linspace(10,1200) # module will not work at very very low temperatures\n",
    "Q_pesq = np.array(qwave.q_PESq(eigen,temp,'eV'))\n",
    "\n"
   ]
  },
  {
   "cell_type": "markdown",
   "metadata": {},
   "source": [
    "## q_HO"
   ]
  },
  {
   "cell_type": "markdown",
   "metadata": {},
   "source": [
    "We have also implimented the ability to compute the partition function given the frequency for the harmonic oscillator. It work very similarly as the q_PESq() module, except it evaluates:"
   ]
  },
  {
   "cell_type": "markdown",
   "metadata": {},
   "source": [
    "$$q_{\\text{HO}} =\\frac{\\exp(\\frac{h\\nu}{2 k_{b} T})}{1-\\exp(\\frac{h\\nu}{ k_{b} T})}$$"
   ]
  },
  {
   "cell_type": "markdown",
   "metadata": {},
   "source": [
    "where $h$, and $\\nu$ are Plancks constant and frequency (in cm-1) respectively. "
   ]
  },
  {
   "cell_type": "code",
   "execution_count": 5,
   "metadata": {},
   "outputs": [],
   "source": [
    "freq_inplane = 543 # in-plane frequency vibration (degenerate)\n",
    "freq_normal = 249 # out-of-plane frequency vibration\n",
    "\n",
    "Q_HO_in = np.array(qwave.q_HO(freq_inplane,temp,'eV'))\n",
    "Q_HO_out = np.array(qwave.q_HO(freq_normal,temp,'eV'))"
   ]
  },
  {
   "cell_type": "markdown",
   "metadata": {},
   "source": [
    "With these partion functions, we can evaluate some thermodynamic properties"
   ]
  },
  {
   "cell_type": "markdown",
   "metadata": {},
   "source": [
    "## free_A_S()"
   ]
  },
  {
   "cell_type": "markdown",
   "metadata": {},
   "source": [
    "free_A_S() module computes the helmholtz free energy (which is the free energy which corresponds with this ensemble) and the entropy. These are computed as:"
   ]
  },
  {
   "cell_type": "markdown",
   "metadata": {},
   "source": [
    "$$A = -k_{b}T\\ln(\\prod_{i=\\text{DOF}}q_{i})$$\n",
    "<br>\n",
    "$$S = -\\frac{\\partial A}{\\partial T} $$"
   ]
  },
  {
   "cell_type": "markdown",
   "metadata": {},
   "source": [
    "where $i$ covers the availible degrees of freedom. Since we are dealing with a monatomic atom, all we have are the translations of the atom on the surface (translations in the x,y,z). Note 1: you can approximate these translations as frustrated vibrations on the surface. Note 2: for simplicity, we will assume that the motion normal to the surface can always be treated within the harmonic approximaiton, so $q_{z}$ will come from the freq_normal, but you are more than welcome to compute the out of plane potential and evaluate the eigenvalues for that potentials. Also we will assume that the in-plane motions are degenerate."
   ]
  },
  {
   "cell_type": "markdown",
   "metadata": {},
   "source": [
    "free_A_S() takes three parameters: q, temp, and unit. It returns both the free energy and entropy."
   ]
  },
  {
   "cell_type": "code",
   "execution_count": 10,
   "metadata": {},
   "outputs": [],
   "source": [
    "Q_HO_Tot = (Q_HO_in*Q_HO_in*Q_HO_out)\n",
    "A_HO,S_HO = qwave.free_A_S(Q_HO_Tot,temp,'eV')\n",
    "\n",
    "Q_PESq_Tot = (Q_pesq*Q_pesq*Q_HO_out)\n",
    "A_PESq,S_PESq = qwave.free_A_S(Q_HO_Tot,temp,'eV')"
   ]
  },
  {
   "cell_type": "code",
   "execution_count": 14,
   "metadata": {},
   "outputs": [
    {
     "data": {
      "text/plain": [
       "[<matplotlib.lines.Line2D at 0x7fb945cf4438>]"
      ]
     },
     "execution_count": 14,
     "metadata": {},
     "output_type": "execute_result"
    },
    {
     "data": {
      "image/png": "[encoded data removed]",
      "text/plain": [
       "<Figure size 432x288 with 1 Axes>"
      ]
     },
     "metadata": {
      "needs_background": "light"
     },
     "output_type": "display_data"
    }
   ],
   "source": [
    "import matplotlib.pyplot as plt\n",
    "\n",
    "plt.plot(temp,S_PESq,linewidth=3,color='blue')\n",
    "plt.plot(temp,S_HO,linewidth=3,color='red')"
   ]
  },
  {
   "cell_type": "code",
   "execution_count": 18,
   "metadata": {},
   "outputs": [
    {
     "data": {
      "text/plain": [
       "1.5404675742153275e-17"
      ]
     },
     "execution_count": 18,
     "metadata": {},
     "output_type": "execute_result"
    }
   ],
   "source": [
    "Q_pesq[0]"
   ]
  },
  {
   "cell_type": "code",
   "execution_count": 19,
   "metadata": {},
   "outputs": [
    {
     "data": {
      "text/plain": [
       "1.0845240845145971e-17"
      ]
     },
     "execution_count": 19,
     "metadata": {},
     "output_type": "execute_result"
    }
   ],
   "source": [
    "Q_HO_in[0]"
   ]
  },
  {
   "cell_type": "code",
   "execution_count": null,
   "metadata": {},
   "outputs": [],
   "source": []
  }
 ],
 "metadata": {
  "kernelspec": {
   "display_name": "Python 3",
   "language": "python",
   "name": "python3"
  },
  "language_info": {
   "codemirror_mode": {
    "name": "ipython",
    "version": 3
   },
   "file_extension": ".py",
   "mimetype": "text/x-python",
   "name": "python",
   "nbconvert_exporter": "python",
   "pygments_lexer": "ipython3",
   "version": "3.7.3"
  }
 },
 "nbformat": 4,
 "nbformat_minor": 4
}
